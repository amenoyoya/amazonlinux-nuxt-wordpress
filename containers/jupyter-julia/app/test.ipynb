{
 "cells": [
  {
   "cell_type": "code",
   "execution_count": 2,
   "metadata": {},
   "outputs": [
    {
     "name": "stdout",
     "output_type": "stream",
     "text": [
      "test: 1\n",
      "test: 2\n",
      "test: 3\n",
      "test: 4\n",
      "test: 5\n",
      "test: 6\n",
      "test: 7\n",
      "test: 8\n",
      "test: 9\n",
      "test: 10\n"
     ]
    }
   ],
   "source": [
    "for i = 1:10\n",
    "    println(\"test: $(i)\")\n",
    "end"
   ]
  },
  {
   "cell_type": "code",
   "execution_count": null,
   "metadata": {},
   "outputs": [],
   "source": []
  }
 ],
 "metadata": {
  "kernelspec": {
   "display_name": "Julia 1.2.0",
   "language": "julia",
   "name": "julia-1.2"
  },
  "language_info": {
   "file_extension": ".jl",
   "mimetype": "application/julia",
   "name": "julia",
   "version": "1.2.0"
  }
 },
 "nbformat": 4,
 "nbformat_minor": 2
}
